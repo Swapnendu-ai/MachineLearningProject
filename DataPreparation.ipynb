{
 "cells": [
  {
   "cell_type": "markdown",
   "metadata": {},
   "source": [
    "### D2.2: Data Analysis"
   ]
  },
  {
   "cell_type": "code",
   "execution_count": 4,
   "metadata": {},
   "outputs": [
    {
     "output_type": "execute_result",
     "data": {
      "text/plain": "                 x0            x1            x2            x3            x4  \\\ncount  47494.000000  47379.000000  47383.000000  47414.000000  47565.000000   \nmean      30.826062     30.299584     30.576705     30.163791     29.421634   \nstd       18.323820     18.667679     18.303263     18.541958     19.219590   \nmin        0.000000      0.000000      0.000000      0.000000      0.000000   \n25%       16.000000     15.000000     14.000000     15.000000     12.000000   \n50%       28.000000     27.000000     28.000000     28.000000     27.000000   \n75%       46.000000     46.000000     45.000000     46.000000     46.000000   \nmax       58.000000     58.000000     57.000000     62.000000     57.000000   \n\n                 x5            x6            x7            x8            x9  \\\ncount  47447.000000  47551.000000  47468.000000  47528.000000  47494.000000   \nmean      30.448964     30.149124     29.144223     29.559249     31.069398   \nstd       18.384625     18.647909     19.331246     19.032847     17.831379   \nmin        0.000000      0.000000      0.000000      0.000000      0.000000   \n25%       14.000000     14.000000     12.000000     12.000000     17.000000   \n50%       28.000000     27.000000     27.000000     28.000000     29.000000   \n75%       45.000000     46.000000     46.000000     45.000000     45.000000   \nmax       57.000000     57.000000     57.000000     57.000000     57.000000   \n\n            target  \ncount  50000.00000  \nmean      21.30000  \nstd       10.71505  \nmin        0.00000  \n25%       12.00000  \n50%       24.50000  \n75%       31.00000  \nmax       33.00000  ",
      "text/html": "<div>\n<style scoped>\n    .dataframe tbody tr th:only-of-type {\n        vertical-align: middle;\n    }\n\n    .dataframe tbody tr th {\n        vertical-align: top;\n    }\n\n    .dataframe thead th {\n        text-align: right;\n    }\n</style>\n<table border=\"1\" class=\"dataframe\">\n  <thead>\n    <tr style=\"text-align: right;\">\n      <th></th>\n      <th>x0</th>\n      <th>x1</th>\n      <th>x2</th>\n      <th>x3</th>\n      <th>x4</th>\n      <th>x5</th>\n      <th>x6</th>\n      <th>x7</th>\n      <th>x8</th>\n      <th>x9</th>\n      <th>target</th>\n    </tr>\n  </thead>\n  <tbody>\n    <tr>\n      <th>count</th>\n      <td>47494.000000</td>\n      <td>47379.000000</td>\n      <td>47383.000000</td>\n      <td>47414.000000</td>\n      <td>47565.000000</td>\n      <td>47447.000000</td>\n      <td>47551.000000</td>\n      <td>47468.000000</td>\n      <td>47528.000000</td>\n      <td>47494.000000</td>\n      <td>50000.00000</td>\n    </tr>\n    <tr>\n      <th>mean</th>\n      <td>30.826062</td>\n      <td>30.299584</td>\n      <td>30.576705</td>\n      <td>30.163791</td>\n      <td>29.421634</td>\n      <td>30.448964</td>\n      <td>30.149124</td>\n      <td>29.144223</td>\n      <td>29.559249</td>\n      <td>31.069398</td>\n      <td>21.30000</td>\n    </tr>\n    <tr>\n      <th>std</th>\n      <td>18.323820</td>\n      <td>18.667679</td>\n      <td>18.303263</td>\n      <td>18.541958</td>\n      <td>19.219590</td>\n      <td>18.384625</td>\n      <td>18.647909</td>\n      <td>19.331246</td>\n      <td>19.032847</td>\n      <td>17.831379</td>\n      <td>10.71505</td>\n    </tr>\n    <tr>\n      <th>min</th>\n      <td>0.000000</td>\n      <td>0.000000</td>\n      <td>0.000000</td>\n      <td>0.000000</td>\n      <td>0.000000</td>\n      <td>0.000000</td>\n      <td>0.000000</td>\n      <td>0.000000</td>\n      <td>0.000000</td>\n      <td>0.000000</td>\n      <td>0.00000</td>\n    </tr>\n    <tr>\n      <th>25%</th>\n      <td>16.000000</td>\n      <td>15.000000</td>\n      <td>14.000000</td>\n      <td>15.000000</td>\n      <td>12.000000</td>\n      <td>14.000000</td>\n      <td>14.000000</td>\n      <td>12.000000</td>\n      <td>12.000000</td>\n      <td>17.000000</td>\n      <td>12.00000</td>\n    </tr>\n    <tr>\n      <th>50%</th>\n      <td>28.000000</td>\n      <td>27.000000</td>\n      <td>28.000000</td>\n      <td>28.000000</td>\n      <td>27.000000</td>\n      <td>28.000000</td>\n      <td>27.000000</td>\n      <td>27.000000</td>\n      <td>28.000000</td>\n      <td>29.000000</td>\n      <td>24.50000</td>\n    </tr>\n    <tr>\n      <th>75%</th>\n      <td>46.000000</td>\n      <td>46.000000</td>\n      <td>45.000000</td>\n      <td>46.000000</td>\n      <td>46.000000</td>\n      <td>45.000000</td>\n      <td>46.000000</td>\n      <td>46.000000</td>\n      <td>45.000000</td>\n      <td>45.000000</td>\n      <td>31.00000</td>\n    </tr>\n    <tr>\n      <th>max</th>\n      <td>58.000000</td>\n      <td>58.000000</td>\n      <td>57.000000</td>\n      <td>62.000000</td>\n      <td>57.000000</td>\n      <td>57.000000</td>\n      <td>57.000000</td>\n      <td>57.000000</td>\n      <td>57.000000</td>\n      <td>57.000000</td>\n      <td>33.00000</td>\n    </tr>\n  </tbody>\n</table>\n</div>"
     },
     "metadata": {},
     "execution_count": 4
    }
   ],
   "source": [
    "import pandas as pd \n",
    "data = pd.read_csv(\"test.csv\")\n",
    "data.describe()"
   ]
  },
  {
   "cell_type": "code",
   "execution_count": null,
   "metadata": {},
   "outputs": [],
   "source": [
    "### D2.3: Data Wrangling"
   ]
  },
  {
   "cell_type": "markdown",
   "metadata": {},
   "source": [
    "### D2.4: Feature Engineering"
   ]
  }
 ],
 "metadata": {
  "kernelspec": {
   "display_name": "Python 3",
   "language": "python",
   "name": "python3"
  },
  "language_info": {
   "codemirror_mode": {
    "name": "ipython",
    "version": 3
   },
   "file_extension": ".py",
   "mimetype": "text/x-python",
   "name": "python",
   "nbconvert_exporter": "python",
   "pygments_lexer": "ipython3",
   "version": "3.8.2-final"
  }
 },
 "nbformat": 4,
 "nbformat_minor": 2
}