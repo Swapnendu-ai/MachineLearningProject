{
 "cells": [
  {
   "cell_type": "markdown",
   "metadata": {},
   "source": [
    "## D1 Proposal\n",
    "### Nomenclating Aliens\n",
    "\n",
    "Team Member 1: Omar Sinan (osinan)<p>\n",
    "Team Member 2: Swapnendu Sanyal (swapnens)<p>\n",
    "\n",
    "### Project Description:\n",
    "We were recently invaded by aliens from various galaxies. We have managed to somehow fight back but now we want to know more about them. However, we do not have their morphology but only have their DNA samples. We plan on differentiating the species, creating bioweapons tailored to each planet, and retaliate and annihilate them.\n",
    "\tThe goal of this project is to predict which planet does a particular DNA sequence belong to. We have a multitude of labeled DNA sequences and we want to predict which planet do the invaders belong to.\n",
    "\n",
    "### Project Idea:\n",
    "The way that the QuAM works is by providing it with a DNA sequence of a particular size as input and using the classifier described below, the QuAM will predict the planet that the DNA sequence belongs to.\n",
    "\tWe will be building a classifier for this problem using the three methods. Namely, we will be using the normal classifier, k-NN, and k-Means and compare the results to pick the best classifier that solves the problem.\n",
    "\tThe QuAM will have a simple user interface that allows the user to input the DNA sequence they want to analyze and its size, after running the classifier on the given input, the QuAM will return the prediction of the planet that the DNA sequence belongs to.\n",
    "\n",
    "\n",
    "\n",
    "### Divided Spec\n",
    "Swapnendu:<p>\n",
    "•\tGenerate the DNA data by writing a python script.<p>\n",
    "•\tWork on one of the classification methods.<p>\n",
    "Omar:<p>\n",
    "•\tFeature extraction from the given data.<p>\n",
    "•\tWork on the other two classification methods.<p>\n",
    "\n",
    "### Data Generation\n",
    "We are going to write a python script that takes the following input:<p>\n",
    "1.\tLength of the sequence<p>\n",
    "2.\tNumber of planets<p>\n",
    "3.\tNumber of data points<p>\n",
    "We are going to randomly generate a string of DNA sequence and make it our first cluster. Now, we keep generating clusters that are significantly far from each other for the remaining clusters randomly. Now, we have the clusters, we randomly generate sequences that belong to those clusters. We will output all the DNA sequences with their labels.\n"
   ]
  },
  {
   "cell_type": "markdown",
   "metadata": {},
   "source": [
    "## D2 Dataset Generation"
   ]
  },
  {
   "cell_type": "markdown",
   "metadata": {},
   "source": [
    "### D2.1 Data Collection"
   ]
  },
  {
   "cell_type": "code",
   "execution_count": 7,
   "metadata": {},
   "outputs": [
    {
     "output_type": "stream",
     "name": "stdout",
     "text": "We have 5 types of methods to generate data.\nYour csv has been generated.\n"
    }
   ],
   "source": [
    "from mpl_toolkits.mplot3d import Axes3D\n",
    "from sklearn.datasets import make_blobs, make_moons, make_circles\n",
    "import pandas as pd\n",
    "import random\n",
    "import numpy as np\n",
    "import matplotlib.pyplot as plt\n",
    "import json\n",
    "\n",
    "GLOBAL_RANDOM_STATE = 500\n",
    "random.seed(GLOBAL_RANDOM_STATE)\n",
    "\n",
    "args = {\n",
    "    \"points\": {\n",
    "        \"question\": \"How many points of a type in the dataset? \",\n",
    "        \"value\": None\n",
    "    },\n",
    "    \"clusters\": {\n",
    "        \"question\": \"How many clusters of a type in the dataset? \",\n",
    "        \"value\": None\n",
    "    },\n",
    "    \"feature_value\": {\n",
    "        \"question\": \"How many feature_values in the dataset? \",\n",
    "        \"value\": None\n",
    "    },\n",
    "    \"length\": {\n",
    "        \"question\": \"How long is a DNA sequence? \",\n",
    "        \"value\": None\n",
    "    }\n",
    "}\n",
    "\n",
    "\n",
    "def getInput():\n",
    "    \"\"\"\n",
    "    points -- Number of points to be generated\n",
    "    clusters -- number of clusters to be generated\n",
    "    length -- size of the DNA sequence\n",
    "    feature-value -- Number of different protein-bases possible\n",
    "                     In humans, it is 4, [A,T,G,C]\n",
    "    \"\"\"\n",
    "    print(\"We have 5 types of methods to generate data.\")\n",
    "    for k, v in args.items():\n",
    "        temp = int(input(v[\"question\"]))\n",
    "        if temp > 0:\n",
    "            v[\"value\"] = temp\n",
    "        else:\n",
    "            print(\"{} is not a valid input for {}\".format(temp, k))\n",
    "            exit(-1)\n",
    "    if args[\"points\"][\"value\"] < 10 * args[\"clusters\"][\"value\"]:\n",
    "        print(\"\\nERROR: {} is too large a cluster for {} points.\".format(\n",
    "            args[\"clusters\"][\"value\"], args[\"points\"][\"value\"]))\n",
    "        exit(-1)\n",
    "    if (args[\"points\"][\"value\"] >\n",
    "            args[\"feature_value\"][\"value\"] ** args[\"length\"][\"value\"]):\n",
    "        print((\"\\nERROR: {} feature_value and DNA of length {} is too small for {}\"\n",
    "               + \" points.\").format(\n",
    "            args[\"feature_value\"][\"value\"], args[\"length\"][\"value\"],\n",
    "            args[\"points\"][\"value\"]))\n",
    "        exit(-1)\n",
    "\n",
    "    return {k: v[\"value\"] for k, v in args.items()}\n",
    "\n",
    "\n",
    "def makeBlobs(data):\n",
    "    features, targets = make_blobs(n_samples=data[\"points\"],\n",
    "                                   n_features=data[\"length\"],\n",
    "                                   centers=data[\"clusters\"],\n",
    "                                   cluster_std=1.2,\n",
    "                                   center_box=(0, data[\"feature_value\"]),\n",
    "                                   shuffle=True,\n",
    "                                   random_state=GLOBAL_RANDOM_STATE\n",
    "                                   )\n",
    "    return (np.abs(np.round(features)).astype(int), targets)\n",
    "\n",
    "\n",
    "def make_linear_clusters(data):\n",
    "    features, targets = make_blobs(n_samples=data[\"points\"],\n",
    "                                   n_features=data[\"length\"],\n",
    "                                   centers=data[\"clusters\"],\n",
    "                                   cluster_std=1.2,\n",
    "                                   center_box=(0, data[\"feature_value\"]),\n",
    "                                   shuffle=True,\n",
    "                                   random_state=GLOBAL_RANDOM_STATE\n",
    "                                   )\n",
    "\n",
    "    contractFeatures = random.sample(\n",
    "        list(range(data[\"length\"])),\n",
    "        random.randint(0, int(0.5*data[\"length\"])))\n",
    "    for column in range(data[\"length\"]):\n",
    "        if column in contractFeatures:\n",
    "            features[:, column] = features[:, column]/(2 + random.random())\n",
    "    return (np.abs(np.round(features)).astype(int), targets)\n",
    "\n",
    "\n",
    "def make_noisy_clusters(data):\n",
    "    small_std = np.arange(0.5, 5, 0.5)\n",
    "    large_std = np.arange(5, 10, 0.5)\n",
    "    small_perc = 0.8\n",
    "    split = int(data[\"clusters\"] * small_perc)\n",
    "    cluster_std1 = np.random.choice(small_std, split)\n",
    "    cluster_std2 = np.random.choice(large_std, data[\"clusters\"] - split)\n",
    "    cluster_std = np.append(cluster_std1, cluster_std2)\n",
    "\n",
    "    features, targets = make_blobs(n_samples=data[\"points\"],\n",
    "                                   n_features=data[\"length\"],\n",
    "                                   centers=data[\"clusters\"],\n",
    "                                   cluster_std=cluster_std,\n",
    "                                   center_box=(0, data[\"feature_value\"]),\n",
    "                                   random_state=GLOBAL_RANDOM_STATE)\n",
    "\n",
    "    return (np.abs(np.round(features)).astype(int), targets)\n",
    "\n",
    "\n",
    "def make_moon_clusters(data):\n",
    "    noise = np.random.choice(np.arange(0.05, 0.1, 0.01), 1)\n",
    "    features, targets = make_moons(n_samples=data[\"points\"],\n",
    "                                   noise=noise,\n",
    "                                   random_state=GLOBAL_RANDOM_STATE)\n",
    "\n",
    "    new_features = features + abs(np.min(features))\n",
    "    zeros = np.random.randint(\n",
    "        -2,2,(data[\"points\"], data[\"length\"] - 2), dtype=int)\n",
    "    new_features = np.append(new_features, zeros, axis=1)\n",
    "    return (np.abs(np.round(new_features)).astype(int), targets)\n",
    "\n",
    "\n",
    "def make_circle_clusters(data):\n",
    "    noise = np.random.choice(np.arange(0.05, 0.1, 0.01), 1)\n",
    "    factor = np.random.choice(np.arange(0.1, 0.7, 0.05), 1)\n",
    "    features, targets = make_circles(n_samples=data[\"points\"],\n",
    "                                     noise=noise,\n",
    "                                     factor=factor,\n",
    "                                     random_state=GLOBAL_RANDOM_STATE)\n",
    "\n",
    "    new_features = features + abs(np.min(features))\n",
    "    zeros = np.random.randint(\n",
    "        -2,2,(data[\"points\"], data[\"length\"] - 2), dtype=int)\n",
    "    new_features = np.append(new_features, zeros, axis=1)\n",
    "    return (np.abs(np.round(new_features)).astype(int), targets)\n",
    "\n",
    "def create(filename=\"test.csv\"):\n",
    "    data = getInput()\n",
    "    json.dumps(data,indent=8)\n",
    "    centerOffset = data[\"feature_value\"]+1\n",
    "\n",
    "    featureBlob, targetBlob = makeBlobs(data)\n",
    "\n",
    "    featureLinear, targetLinear = make_linear_clusters(data)\n",
    "    featureLinear = featureLinear + centerOffset\n",
    "    targetLinear = targetLinear + np.max(targetBlob) + 1\n",
    "\n",
    "    featureNoisy, targetNoisy = make_noisy_clusters(data)\n",
    "    featureNoisy = featureNoisy + 2*centerOffset\n",
    "    targetNoisy = targetNoisy + np.max(targetLinear) + 1\n",
    "\n",
    "    featureMoon, targetMoon = make_moon_clusters(data)\n",
    "    featureMoon = featureMoon + 4*centerOffset\n",
    "    targetMoon = targetMoon + np.max(targetNoisy) + 1\n",
    "\n",
    "    featureCircle, targetCircle = make_circle_clusters(data)\n",
    "    featureCircle = featureCircle + 5*centerOffset\n",
    "    targetCircle = targetCircle + np.max(targetMoon) + 1\n",
    "\n",
    "    features = np.concatenate(\n",
    "        (featureBlob, featureLinear, featureNoisy,featureMoon,featureCircle))\n",
    "    target = np.concatenate(\n",
    "        (targetBlob, targetLinear, targetNoisy,targetMoon,targetCircle))\n",
    "\n",
    "\n",
    "\n",
    "    # fig = plt.figure()\n",
    "    # ax = fig.add_subplot(111, projection='3d')\n",
    "    # colorMap = \"bgrcmyk\"*np.max(target)\n",
    "    # for i in range(np.max(target)):\n",
    "    #     feature = features[target == i]\n",
    "    #     ax.scatter(feature[:, 0], feature[:, 1],feature[:, 2], color=colorMap[i])\n",
    "    # plt.show()\n",
    "\n",
    "\n",
    "    df = pd.DataFrame(features, columns=[\"x{}\".format(i) for i in range(data[\"length\"])])\n",
    "    df_nan = df.mask(np.random.random(df.shape) < .05)\n",
    "    df_nan[\"target\"] = target\n",
    "    df_nan.to_csv(filename,index=False)\n",
    "\n",
    "create()\n",
    "print(\"Your csv has been generated.\")"
   ]
  },
  {
   "cell_type": "markdown",
   "metadata": {},
   "source": [
    "### D2.2: Data Analysis"
   ]
  },
  {
   "cell_type": "code",
   "execution_count": 9,
   "metadata": {},
   "outputs": [],
   "source": [
    "import pandas as pd \n",
    "data = pd.read_csv(\"test.csv\")"
   ]
  },
  {
   "cell_type": "code",
   "execution_count": 10,
   "metadata": {},
   "outputs": [
    {
     "output_type": "execute_result",
     "data": {
      "text/plain": "        x0    x1    x2    x3    x4  target\n0      6.0   2.0   2.0   2.0   3.0       2\n1      3.0   5.0   1.0   2.0   1.0       1\n2      4.0   4.0   3.0   4.0   3.0       4\n3      1.0   2.0   0.0   5.0   0.0       3\n4      1.0   3.0   3.0   3.0   2.0       1\n...    ...   ...   ...   ...   ...     ...\n2495  32.0  30.0  31.0  32.0  31.0      17\n2496  31.0  31.0  31.0  32.0  32.0      18\n2497  31.0   NaN   NaN  32.0  31.0      18\n2498  31.0  31.0  31.0  31.0  32.0      18\n2499  31.0  31.0  31.0  30.0  31.0      18\n\n[2500 rows x 6 columns]",
      "text/html": "<div>\n<style scoped>\n    .dataframe tbody tr th:only-of-type {\n        vertical-align: middle;\n    }\n\n    .dataframe tbody tr th {\n        vertical-align: top;\n    }\n\n    .dataframe thead th {\n        text-align: right;\n    }\n</style>\n<table border=\"1\" class=\"dataframe\">\n  <thead>\n    <tr style=\"text-align: right;\">\n      <th></th>\n      <th>x0</th>\n      <th>x1</th>\n      <th>x2</th>\n      <th>x3</th>\n      <th>x4</th>\n      <th>target</th>\n    </tr>\n  </thead>\n  <tbody>\n    <tr>\n      <th>0</th>\n      <td>6.0</td>\n      <td>2.0</td>\n      <td>2.0</td>\n      <td>2.0</td>\n      <td>3.0</td>\n      <td>2</td>\n    </tr>\n    <tr>\n      <th>1</th>\n      <td>3.0</td>\n      <td>5.0</td>\n      <td>1.0</td>\n      <td>2.0</td>\n      <td>1.0</td>\n      <td>1</td>\n    </tr>\n    <tr>\n      <th>2</th>\n      <td>4.0</td>\n      <td>4.0</td>\n      <td>3.0</td>\n      <td>4.0</td>\n      <td>3.0</td>\n      <td>4</td>\n    </tr>\n    <tr>\n      <th>3</th>\n      <td>1.0</td>\n      <td>2.0</td>\n      <td>0.0</td>\n      <td>5.0</td>\n      <td>0.0</td>\n      <td>3</td>\n    </tr>\n    <tr>\n      <th>4</th>\n      <td>1.0</td>\n      <td>3.0</td>\n      <td>3.0</td>\n      <td>3.0</td>\n      <td>2.0</td>\n      <td>1</td>\n    </tr>\n    <tr>\n      <th>...</th>\n      <td>...</td>\n      <td>...</td>\n      <td>...</td>\n      <td>...</td>\n      <td>...</td>\n      <td>...</td>\n    </tr>\n    <tr>\n      <th>2495</th>\n      <td>32.0</td>\n      <td>30.0</td>\n      <td>31.0</td>\n      <td>32.0</td>\n      <td>31.0</td>\n      <td>17</td>\n    </tr>\n    <tr>\n      <th>2496</th>\n      <td>31.0</td>\n      <td>31.0</td>\n      <td>31.0</td>\n      <td>32.0</td>\n      <td>32.0</td>\n      <td>18</td>\n    </tr>\n    <tr>\n      <th>2497</th>\n      <td>31.0</td>\n      <td>NaN</td>\n      <td>NaN</td>\n      <td>32.0</td>\n      <td>31.0</td>\n      <td>18</td>\n    </tr>\n    <tr>\n      <th>2498</th>\n      <td>31.0</td>\n      <td>31.0</td>\n      <td>31.0</td>\n      <td>31.0</td>\n      <td>32.0</td>\n      <td>18</td>\n    </tr>\n    <tr>\n      <th>2499</th>\n      <td>31.0</td>\n      <td>31.0</td>\n      <td>31.0</td>\n      <td>30.0</td>\n      <td>31.0</td>\n      <td>18</td>\n    </tr>\n  </tbody>\n</table>\n<p>2500 rows × 6 columns</p>\n</div>"
     },
     "metadata": {},
     "execution_count": 10
    }
   ],
   "source": [
    "data"
   ]
  },
  {
   "cell_type": "code",
   "execution_count": 11,
   "metadata": {},
   "outputs": [
    {
     "output_type": "execute_result",
     "data": {
      "text/plain": "                x0           x1           x2           x3           x4  \\\ncount  2361.000000  2365.000000  2366.000000  2364.000000  2369.000000   \nmean     17.251165    16.561522    16.527050    16.922166    16.015196   \nstd      10.336378    10.820452    10.705075    10.515243    10.947152   \nmin       0.000000     0.000000     0.000000     0.000000     0.000000   \n25%       8.000000     7.000000     7.000000     8.000000     6.000000   \n50%      16.000000    15.000000    15.000000    15.000000    14.000000   \n75%      26.000000    26.000000    26.000000    26.000000    25.000000   \nmax      34.000000    37.000000    40.000000    36.000000    34.000000   \n\n            target  \ncount  2500.000000  \nmean     10.800000  \nstd       5.776967  \nmin       0.000000  \n25%       6.000000  \n50%      12.000000  \n75%      16.000000  \nmax      18.000000  ",
      "text/html": "<div>\n<style scoped>\n    .dataframe tbody tr th:only-of-type {\n        vertical-align: middle;\n    }\n\n    .dataframe tbody tr th {\n        vertical-align: top;\n    }\n\n    .dataframe thead th {\n        text-align: right;\n    }\n</style>\n<table border=\"1\" class=\"dataframe\">\n  <thead>\n    <tr style=\"text-align: right;\">\n      <th></th>\n      <th>x0</th>\n      <th>x1</th>\n      <th>x2</th>\n      <th>x3</th>\n      <th>x4</th>\n      <th>target</th>\n    </tr>\n  </thead>\n  <tbody>\n    <tr>\n      <th>count</th>\n      <td>2361.000000</td>\n      <td>2365.000000</td>\n      <td>2366.000000</td>\n      <td>2364.000000</td>\n      <td>2369.000000</td>\n      <td>2500.000000</td>\n    </tr>\n    <tr>\n      <th>mean</th>\n      <td>17.251165</td>\n      <td>16.561522</td>\n      <td>16.527050</td>\n      <td>16.922166</td>\n      <td>16.015196</td>\n      <td>10.800000</td>\n    </tr>\n    <tr>\n      <th>std</th>\n      <td>10.336378</td>\n      <td>10.820452</td>\n      <td>10.705075</td>\n      <td>10.515243</td>\n      <td>10.947152</td>\n      <td>5.776967</td>\n    </tr>\n    <tr>\n      <th>min</th>\n      <td>0.000000</td>\n      <td>0.000000</td>\n      <td>0.000000</td>\n      <td>0.000000</td>\n      <td>0.000000</td>\n      <td>0.000000</td>\n    </tr>\n    <tr>\n      <th>25%</th>\n      <td>8.000000</td>\n      <td>7.000000</td>\n      <td>7.000000</td>\n      <td>8.000000</td>\n      <td>6.000000</td>\n      <td>6.000000</td>\n    </tr>\n    <tr>\n      <th>50%</th>\n      <td>16.000000</td>\n      <td>15.000000</td>\n      <td>15.000000</td>\n      <td>15.000000</td>\n      <td>14.000000</td>\n      <td>12.000000</td>\n    </tr>\n    <tr>\n      <th>75%</th>\n      <td>26.000000</td>\n      <td>26.000000</td>\n      <td>26.000000</td>\n      <td>26.000000</td>\n      <td>25.000000</td>\n      <td>16.000000</td>\n    </tr>\n    <tr>\n      <th>max</th>\n      <td>34.000000</td>\n      <td>37.000000</td>\n      <td>40.000000</td>\n      <td>36.000000</td>\n      <td>34.000000</td>\n      <td>18.000000</td>\n    </tr>\n  </tbody>\n</table>\n</div>"
     },
     "metadata": {},
     "execution_count": 11
    }
   ],
   "source": [
    "data.describe()"
   ]
  },
  {
   "cell_type": "code",
   "execution_count": null,
   "metadata": {},
   "outputs": [],
   "source": []
  },
  {
   "cell_type": "markdown",
   "metadata": {},
   "source": [
    "### D2.3: Data Wrangling"
   ]
  },
  {
   "cell_type": "markdown",
   "metadata": {},
   "source": [
    "### D2.4: Feature Engineering"
   ]
  }
 ],
 "metadata": {
  "kernelspec": {
   "display_name": "Python 3",
   "language": "python",
   "name": "python3"
  },
  "language_info": {
   "codemirror_mode": {
    "name": "ipython",
    "version": 3
   },
   "file_extension": ".py",
   "mimetype": "text/x-python",
   "name": "python",
   "nbconvert_exporter": "python",
   "pygments_lexer": "ipython3",
   "version": "3.8.2-final"
  }
 },
 "nbformat": 4,
 "nbformat_minor": 2
}